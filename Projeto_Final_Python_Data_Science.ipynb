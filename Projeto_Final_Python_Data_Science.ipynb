{
  "nbformat": 4,
  "nbformat_minor": 0,
  "metadata": {
    "colab": {
      "provenance": []
    },
    "kernelspec": {
      "name": "python3",
      "display_name": "Python 3"
    },
    "language_info": {
      "name": "python"
    }
  },
  "cells": [
    {
      "cell_type": "markdown",
      "source": [
        "# Python para Data Science\n",
        "\n",
        "Notebook para o curso de Python para Data Science publicado na plataforma da [Alura](https://www.alura.com.br/)"
      ],
      "metadata": {
        "id": "lQx6Mmv0OJyT"
      }
    },
    {
      "cell_type": "markdown",
      "source": [
        "# Introdução ao Python\n",
        "\n",
        "Vamos conhecer o Python, nosso ambiente de estudo e também faremos nosso primeiro código nessa linguagem!"
      ],
      "metadata": {
        "id": "7SiB6JIpYKmY"
      }
    },
    {
      "cell_type": "markdown",
      "source": [
        "## Google Colaboratory\n",
        "\n",
        "Já aprendemos o que é o [Python](https://www.python.org/) agora vamos aprender a utilzar o [Google Colaboratory](https://colab.research.google.com/) e programar em um notebook.\n",
        "\n",
        "Vamos testar algumas funções dessa ferramenta."
      ],
      "metadata": {
        "id": "Yugfb3fCOYY9"
      }
    },
    {
      "cell_type": "markdown",
      "source": [
        " **`>>> Use essa célula para mover <<<`**"
      ],
      "metadata": {
        "id": "2iUHQsJasJAk"
      }
    },
    {
      "cell_type": "code",
      "source": [
        "10"
      ],
      "metadata": {
        "id": "QlxMzVQ9r8g2",
        "colab": {
          "base_uri": "https://localhost:8080/"
        },
        "outputId": "851b6c9b-36a3-4cd4-bc1f-66627ac85346"
      },
      "execution_count": 1,
      "outputs": [
        {
          "output_type": "execute_result",
          "data": {
            "text/plain": [
              "10"
            ]
          },
          "metadata": {},
          "execution_count": 1
        }
      ]
    },
    {
      "cell_type": "markdown",
      "source": [
        "## Olá mundo!\n",
        "\n",
        "Vamso conhecer mais como funciona o ambiente interativo de um notebook. Para isso vamos executar nosso primeiro comando em Python: [`print()`](https://docs.python.org/3/library/functions.html#print)"
      ],
      "metadata": {
        "id": "aLSFP2V7XTfe"
      }
    },
    {
      "cell_type": "code",
      "source": [
        "print('Olá mundo!')"
      ],
      "metadata": {
        "id": "bJ5c5x5gr_Z5",
        "colab": {
          "base_uri": "https://localhost:8080/"
        },
        "outputId": "66fc0dad-b72a-4e07-83a8-040be2c35866"
      },
      "execution_count": 2,
      "outputs": [
        {
          "output_type": "stream",
          "name": "stdout",
          "text": [
            "Olá mundo!\n"
          ]
        }
      ]
    },
    {
      "cell_type": "code",
      "source": [
        "print(10)"
      ],
      "metadata": {
        "id": "ARO5xM3psBZZ",
        "colab": {
          "base_uri": "https://localhost:8080/"
        },
        "outputId": "89338e07-9521-4c9a-f18d-1e8dc1612875"
      },
      "execution_count": 3,
      "outputs": [
        {
          "output_type": "stream",
          "name": "stdout",
          "text": [
            "10\n"
          ]
        }
      ]
    },
    {
      "cell_type": "code",
      "source": [
        "print('Mirla',23)"
      ],
      "metadata": {
        "id": "hdVBenEIsBOw",
        "colab": {
          "base_uri": "https://localhost:8080/"
        },
        "outputId": "fd78c47c-c49a-4511-d6fe-85cc3b826158"
      },
      "execution_count": 4,
      "outputs": [
        {
          "output_type": "stream",
          "name": "stdout",
          "text": [
            "Mirla 23\n"
          ]
        }
      ]
    },
    {
      "cell_type": "markdown",
      "source": [
        "# Manipulando dados\n",
        "\n",
        "Vamos aprender sobre as variáveis no python, como elas são declaradas e utilizadas além de conhecer outros comandos dentro do Python. :D"
      ],
      "metadata": {
        "id": "iP8uWQmFYFRs"
      }
    },
    {
      "cell_type": "markdown",
      "source": [
        "## Variáveis\n",
        "\n",
        "Em Data Science nós trabalhamos com vários dados e informações, então é essencial saber trabalhar com variáveis."
      ],
      "metadata": {
        "id": "sLNVmnTbag1Z"
      }
    },
    {
      "cell_type": "markdown",
      "source": [
        "Criamos uma variável no python através da atribuição de um valor a ela.\n",
        "\n",
        "Para fazer isso, colocamos o nome da variável um sinal de igual (`=`) e o valor que queremos atribuir"
      ],
      "metadata": {
        "id": "lsCY0wahAbf6"
      }
    },
    {
      "cell_type": "code",
      "source": [
        "idade = 5"
      ],
      "metadata": {
        "id": "HKuyZ08KAT4P"
      },
      "execution_count": 5,
      "outputs": []
    },
    {
      "cell_type": "code",
      "source": [
        "print(idade)"
      ],
      "metadata": {
        "id": "REfGSTfAslL0",
        "colab": {
          "base_uri": "https://localhost:8080/"
        },
        "outputId": "59f16f02-1a4b-4175-a8ad-25017bad6bd5"
      },
      "execution_count": 6,
      "outputs": [
        {
          "output_type": "stream",
          "name": "stdout",
          "text": [
            "5\n"
          ]
        }
      ]
    },
    {
      "cell_type": "code",
      "source": [
        "idade = 10\n",
        "print(idade)"
      ],
      "metadata": {
        "id": "1AWO5GAspx1L",
        "colab": {
          "base_uri": "https://localhost:8080/"
        },
        "outputId": "004e3b8c-7412-4df5-8f13-8382f8443e52"
      },
      "execution_count": 7,
      "outputs": [
        {
          "output_type": "stream",
          "name": "stdout",
          "text": [
            "10\n"
          ]
        }
      ]
    },
    {
      "cell_type": "code",
      "source": [
        "idade = 15\n",
        "idade"
      ],
      "metadata": {
        "id": "YwJXL8uQpxtw",
        "colab": {
          "base_uri": "https://localhost:8080/"
        },
        "outputId": "bfd6ea98-6b07-4033-c99a-a53012538099"
      },
      "execution_count": 8,
      "outputs": [
        {
          "output_type": "execute_result",
          "data": {
            "text/plain": [
              "15"
            ]
          },
          "metadata": {},
          "execution_count": 8
        }
      ]
    },
    {
      "cell_type": "code",
      "source": [
        "nome = 'Gabriel'\n",
        "nome"
      ],
      "metadata": {
        "id": "X2LltFDAsofy",
        "colab": {
          "base_uri": "https://localhost:8080/",
          "height": 36
        },
        "outputId": "874149bd-086e-4fba-ac3c-6f22f7759b85"
      },
      "execution_count": 9,
      "outputs": [
        {
          "output_type": "execute_result",
          "data": {
            "text/plain": [
              "'Gabriel'"
            ],
            "application/vnd.google.colaboratory.intrinsic+json": {
              "type": "string"
            }
          },
          "metadata": {},
          "execution_count": 9
        }
      ]
    },
    {
      "cell_type": "markdown",
      "source": [
        "Nomes que **não** podemos definir para variáveis:\n",
        "\n",
        "- **Nomes que começam com números**\n",
        "  - Exemplos: `10_notas`, `2_nomes_casa`, etc.\n",
        "- **Palavras separada por espaço**\n",
        "  - Exemplos: `Nome escola`, `notas estudantes`, etc.\n",
        "- **Nomes de funções do Python**\n",
        "  - Exemplos: `print`, `type`, etc."
      ],
      "metadata": {
        "id": "om2N0jHKAzwL"
      }
    },
    {
      "cell_type": "markdown",
      "source": [
        "> Letras maiúsculas e minúsculas vão gerar diferentes variáveis. A varíavel `idade` é diferente de `Idade` que por sua vez também é diferente de `IDADE`:\n",
        "``` Python\n",
        "idade = 1\n",
        "Idade = 2\n",
        "IDADE = 3\n",
        "_idade = 4\n",
        "_idade_ = 5\n",
        "print(idade, Idade, IDADE, _idade, _idade_)\n",
        "1 2 3 4 5\n",
        "```"
      ],
      "metadata": {
        "id": "A19vY2GVMujB"
      }
    },
    {
      "cell_type": "markdown",
      "source": [
        "## Tipos de variáveis\n",
        "\n",
        "Cada variável contém uma classe especifica quanto ao tipo de objeto que ela está se referenciando. Essas classes vão ser diferentes a partir do tipo de dado que nós atribuimos a uma variável.\n",
        "\n",
        "Para saber a classe de cada elemento usamos a função [`type()`](https://docs.python.org/3/library/functions.html#type)"
      ],
      "metadata": {
        "id": "UqhzuBhBHsps"
      }
    },
    {
      "cell_type": "code",
      "source": [
        "i = 5\n",
        "type(i)"
      ],
      "metadata": {
        "id": "rcTig6T0s0cD",
        "colab": {
          "base_uri": "https://localhost:8080/"
        },
        "outputId": "a5958bea-d7a0-4092-ce91-b59c9e50d267"
      },
      "execution_count": 10,
      "outputs": [
        {
          "output_type": "execute_result",
          "data": {
            "text/plain": [
              "int"
            ]
          },
          "metadata": {},
          "execution_count": 10
        }
      ]
    },
    {
      "cell_type": "code",
      "source": [
        "f = 9.8\n",
        "type(f)"
      ],
      "metadata": {
        "id": "Hzxl4ziTp2UR",
        "colab": {
          "base_uri": "https://localhost:8080/"
        },
        "outputId": "d1a6184f-f52c-4e39-f89f-57117cca993c"
      },
      "execution_count": 11,
      "outputs": [
        {
          "output_type": "execute_result",
          "data": {
            "text/plain": [
              "float"
            ]
          },
          "metadata": {},
          "execution_count": 11
        }
      ]
    },
    {
      "cell_type": "code",
      "source": [
        "s = 'Mirla'\n",
        "type(s)"
      ],
      "metadata": {
        "id": "rc93oYlmp4Pg",
        "colab": {
          "base_uri": "https://localhost:8080/"
        },
        "outputId": "3b91e505-ae73-4a58-96b7-ce7de2cc1c82"
      },
      "execution_count": 12,
      "outputs": [
        {
          "output_type": "execute_result",
          "data": {
            "text/plain": [
              "str"
            ]
          },
          "metadata": {},
          "execution_count": 12
        }
      ]
    },
    {
      "cell_type": "code",
      "source": [
        "b = True\n",
        "type(b)"
      ],
      "metadata": {
        "id": "jf_XhutSp4HI",
        "colab": {
          "base_uri": "https://localhost:8080/"
        },
        "outputId": "488193b6-5a67-4d48-f413-44dc49fa0401"
      },
      "execution_count": 13,
      "outputs": [
        {
          "output_type": "execute_result",
          "data": {
            "text/plain": [
              "bool"
            ]
          },
          "metadata": {},
          "execution_count": 13
        }
      ]
    },
    {
      "cell_type": "markdown",
      "source": [
        "Em um conjunto de dados escolares podemos ter vários tipos de informações. Digamos que tenhamos acesso à ficha de dados do aluno *Frabicio Daniel* como transformamos ela em variáveis no Python?\n",
        "\n",
        "#### Ficha:\n",
        "\n",
        "- Nome: Fabricio Daniel\n",
        "- Idade: 15 anos\n",
        "- Media do semestre: 8,45\n",
        "- Situação de aprovação: Verdadeira (aprovado)"
      ],
      "metadata": {
        "id": "O-FxDumfWu0C"
      }
    },
    {
      "cell_type": "code",
      "source": [
        "nome_aluno = 'Fabricio Daniel'\n",
        "idade_aluno = 15\n",
        "media_aluno = 8.45\n",
        "situacao_aprovado = True\n",
        "print(nome_aluno,idade_aluno,media_aluno,situacao_aprovado)"
      ],
      "metadata": {
        "colab": {
          "base_uri": "https://localhost:8080/"
        },
        "id": "Z0kvl5mivYFK",
        "outputId": "f77a535d-1196-480e-dbae-c7824b5f4946"
      },
      "execution_count": 14,
      "outputs": [
        {
          "output_type": "stream",
          "name": "stdout",
          "text": [
            "Fabricio Daniel 15 8.45 True\n"
          ]
        }
      ]
    },
    {
      "cell_type": "markdown",
      "source": [
        "## Variáveis numéricas\n",
        "\n",
        "Entre os tipos de dados numéricos vamos nos focar no tipo `inteiro` e `float`."
      ],
      "metadata": {
        "id": "KFq_8Sxf-OG0"
      }
    },
    {
      "cell_type": "markdown",
      "source": [
        "Temos uma tabela de informação de empregos quanto ao cargo, quantidade de pessoas empregadas e o salário correspondente:\n",
        "\n",
        "|Cargo | Quantidade | Salário|\n",
        "|---|---|---|\n",
        "|Segurança | 5 | 3000 |\n",
        "|Docente | 16| 6000|\n",
        "|Diretoria| 1 |12500|\n",
        "\n",
        "Precisamos trabalhar com esses dados fornecendo:\n",
        "\n",
        "- A quantidade total de empregados;\n",
        "- A diferença entre o salário mais baixo e mais alto; e\n",
        "- A média ponderada da faixa salarial da escola."
      ],
      "metadata": {
        "id": "8_HYUbkVYdQY"
      }
    },
    {
      "cell_type": "code",
      "source": [
        "q_seguranca = 5\n",
        "s_seguranca = 3000\n",
        "\n",
        "q_docente = 16\n",
        "s_docente = 6000\n",
        "\n",
        "q_diretoria = 1\n",
        "s_diretoria = 12500"
      ],
      "metadata": {
        "id": "xJIq5MRRZAlj"
      },
      "execution_count": 15,
      "outputs": []
    },
    {
      "cell_type": "code",
      "source": [
        "total_empregados = q_seguranca + q_docente + q_diretoria\n",
        "total_empregados"
      ],
      "metadata": {
        "id": "9fgC9DcEsdl_",
        "colab": {
          "base_uri": "https://localhost:8080/"
        },
        "outputId": "24609aac-c170-4c3a-f95f-2b9243655924"
      },
      "execution_count": 16,
      "outputs": [
        {
          "output_type": "execute_result",
          "data": {
            "text/plain": [
              "22"
            ]
          },
          "metadata": {},
          "execution_count": 16
        }
      ]
    },
    {
      "cell_type": "code",
      "source": [
        "diferenca_salario =  s_diretoria - s_seguranca\n",
        "diferenca_salario"
      ],
      "metadata": {
        "id": "08-3SGnXsfOA",
        "colab": {
          "base_uri": "https://localhost:8080/"
        },
        "outputId": "ab09431f-1add-48d2-ec49-63a56c28f144"
      },
      "execution_count": 17,
      "outputs": [
        {
          "output_type": "execute_result",
          "data": {
            "text/plain": [
              "9500"
            ]
          },
          "metadata": {},
          "execution_count": 17
        }
      ]
    },
    {
      "cell_type": "code",
      "source": [
        "media = (q_seguranca*s_seguranca + q_docente*s_docente + q_diretoria*s_diretoria) / (total_empregados)\n",
        "media"
      ],
      "metadata": {
        "id": "BrS-fXm_scvt",
        "colab": {
          "base_uri": "https://localhost:8080/"
        },
        "outputId": "f0c515c4-25b2-48a3-d4e0-25b01bf62290"
      },
      "execution_count": 18,
      "outputs": [
        {
          "output_type": "execute_result",
          "data": {
            "text/plain": [
              "5613.636363636364"
            ]
          },
          "metadata": {},
          "execution_count": 18
        }
      ]
    },
    {
      "cell_type": "markdown",
      "source": [
        "## Strings"
      ],
      "metadata": {
        "id": "yQy7b0ZWoD-P"
      }
    },
    {
      "cell_type": "markdown",
      "source": [
        "Strings são caracterizada por ter um conjunto de caracteres formando um texto.\n",
        "\n",
        "Strigs podem ser criadas ao atribuirmos a uma variável um dado que esteja entre aspas simples (`'`) ou aspas duplas (`\"`)"
      ],
      "metadata": {
        "id": "vlo2-DXusv3s"
      }
    },
    {
      "cell_type": "code",
      "source": [
        "s1 = 'Alura'\n",
        "s2 = \"Alura\"\n",
        "print(type(s1),type(s2))"
      ],
      "metadata": {
        "id": "2rN0DDdfslbI",
        "colab": {
          "base_uri": "https://localhost:8080/"
        },
        "outputId": "57ed3284-c4b9-424b-bcca-973f90a86326"
      },
      "execution_count": 19,
      "outputs": [
        {
          "output_type": "stream",
          "name": "stdout",
          "text": [
            "<class 'str'> <class 'str'>\n"
          ]
        }
      ]
    },
    {
      "cell_type": "markdown",
      "source": [
        "As variáveis textuais contém vários métodos que nos ajudam a formatar strings. Métódos podem ser executados ao definirmos um objeto seguindo a seguinte estrutura:\n",
        "\n",
        "```\n",
        "objeto.metodo()\n",
        "```\n",
        "\n",
        "Existem métodos que não necessitam dos `()`, é preciso verificar a documentação de cada caso."
      ],
      "metadata": {
        "id": "2e9UD_CCxqz_"
      }
    },
    {
      "cell_type": "markdown",
      "source": [
        "---\n",
        "**Situação:**\n",
        "\n",
        "Recebemos uma variável com o nome de uma professora da escola para inserimos no cadastro. No entanto, precisamos tratar esse texto antes de inserirmos no sistema"
      ],
      "metadata": {
        "id": "p6aPmMGP4tf9"
      }
    },
    {
      "cell_type": "code",
      "source": [
        "texto = '  Geovana Alessandra dias Sanyos '"
      ],
      "metadata": {
        "id": "4tkS8Iit1Ccg"
      },
      "execution_count": 20,
      "outputs": []
    },
    {
      "cell_type": "markdown",
      "source": [
        "O objetivo final é que o nome esteja da seguinte forma:\n",
        "\n",
        "```\n",
        "'GEOVANA ALESSANDRA DIAS SANTOS'\n",
        "```"
      ],
      "metadata": {
        "id": "Dg2ZXSZOGzjC"
      }
    },
    {
      "cell_type": "markdown",
      "source": [
        "### [`str.upper()` ](https://docs.python.org/3/library/stdtypes.html#str.upper)\n",
        "Converte uma string para maiúsculas"
      ],
      "metadata": {
        "id": "iVTAD8q702eN"
      }
    },
    {
      "cell_type": "code",
      "source": [
        "texto.upper()"
      ],
      "metadata": {
        "id": "QXo-rc_6z-0R",
        "colab": {
          "base_uri": "https://localhost:8080/",
          "height": 36
        },
        "outputId": "105f42ca-2d38-44f4-f190-96f1643f17c1"
      },
      "execution_count": 21,
      "outputs": [
        {
          "output_type": "execute_result",
          "data": {
            "text/plain": [
              "'  GEOVANA ALESSANDRA DIAS SANYOS '"
            ],
            "application/vnd.google.colaboratory.intrinsic+json": {
              "type": "string"
            }
          },
          "metadata": {},
          "execution_count": 21
        }
      ]
    },
    {
      "cell_type": "markdown",
      "source": [
        "### [`str.lower()`](https://docs.python.org/3/library/stdtypes.html#str.lower)\n",
        "Método converte uma string para minúsculas."
      ],
      "metadata": {
        "id": "hbDSBtMV1TpG"
      }
    },
    {
      "cell_type": "code",
      "source": [
        "texto.lower()"
      ],
      "metadata": {
        "id": "sfzZHgX50CTe",
        "colab": {
          "base_uri": "https://localhost:8080/",
          "height": 36
        },
        "outputId": "b012c151-6323-4c32-e9b7-7d7db75d9d46"
      },
      "execution_count": 22,
      "outputs": [
        {
          "output_type": "execute_result",
          "data": {
            "text/plain": [
              "'  geovana alessandra dias sanyos '"
            ],
            "application/vnd.google.colaboratory.intrinsic+json": {
              "type": "string"
            }
          },
          "metadata": {},
          "execution_count": 22
        }
      ]
    },
    {
      "cell_type": "markdown",
      "source": [
        "### [`str.strip()`](https://docs.python.org/3/library/stdtypes.html#str.strip)\n",
        "Método remove os espaços em branco do início e do fim de uma string."
      ],
      "metadata": {
        "id": "kz47eWM11gii"
      }
    },
    {
      "cell_type": "code",
      "source": [
        "texto.strip()"
      ],
      "metadata": {
        "id": "rrOEbuNR0D0a",
        "colab": {
          "base_uri": "https://localhost:8080/",
          "height": 36
        },
        "outputId": "7b23c28e-0e54-4d44-cfaa-844d770f543f"
      },
      "execution_count": 23,
      "outputs": [
        {
          "output_type": "execute_result",
          "data": {
            "text/plain": [
              "'Geovana Alessandra dias Sanyos'"
            ],
            "application/vnd.google.colaboratory.intrinsic+json": {
              "type": "string"
            }
          },
          "metadata": {},
          "execution_count": 23
        }
      ]
    },
    {
      "cell_type": "markdown",
      "source": [
        "### [`str.replace(antigo, novo)`](https://docs.python.org/3/library/stdtypes.html#str.replace)\n",
        "\n",
        "Método substitui todas as ocorrências do texto \"antigo\" na string por \"novo\""
      ],
      "metadata": {
        "id": "m6notiyS1SCV"
      }
    },
    {
      "cell_type": "code",
      "source": [
        "texto.replace('y','t')"
      ],
      "metadata": {
        "id": "N9EqhYtP0GY2",
        "colab": {
          "base_uri": "https://localhost:8080/",
          "height": 36
        },
        "outputId": "5484284f-ec72-443f-a48d-91e2b5643844"
      },
      "execution_count": 24,
      "outputs": [
        {
          "output_type": "execute_result",
          "data": {
            "text/plain": [
              "'  Geovana Alessandra dias Santos '"
            ],
            "application/vnd.google.colaboratory.intrinsic+json": {
              "type": "string"
            }
          },
          "metadata": {},
          "execution_count": 24
        }
      ]
    },
    {
      "cell_type": "markdown",
      "source": [
        "### Observações\n",
        "\n",
        "1. Os métodos retornam uma **tranformação**, não a executam no texto!\n",
        "\n",
        "2. Além disso, podemos acumular a execução de métodos."
      ],
      "metadata": {
        "id": "zukvEjhG2Rcn"
      }
    },
    {
      "cell_type": "code",
      "source": [
        "texto"
      ],
      "metadata": {
        "id": "OL4bTf8F0LBc",
        "colab": {
          "base_uri": "https://localhost:8080/",
          "height": 36
        },
        "outputId": "41b17c85-55d1-4788-ef38-873f2b0985f9"
      },
      "execution_count": 25,
      "outputs": [
        {
          "output_type": "execute_result",
          "data": {
            "text/plain": [
              "'  Geovana Alessandra dias Sanyos '"
            ],
            "application/vnd.google.colaboratory.intrinsic+json": {
              "type": "string"
            }
          },
          "metadata": {},
          "execution_count": 25
        }
      ]
    },
    {
      "cell_type": "markdown",
      "source": [
        "Para que seja executada a transformação nós podemos atribuir às saídas das transformações à variável"
      ],
      "metadata": {
        "id": "1KbwfVut2h6I"
      }
    },
    {
      "cell_type": "code",
      "source": [
        "texto = texto.strip().replace('y','t').upper()\n",
        "texto"
      ],
      "metadata": {
        "id": "CITYq50i0OlA",
        "colab": {
          "base_uri": "https://localhost:8080/",
          "height": 36
        },
        "outputId": "55d206a0-09b9-4f9a-fd79-a331af29df44"
      },
      "execution_count": 26,
      "outputs": [
        {
          "output_type": "execute_result",
          "data": {
            "text/plain": [
              "'GEOVANA ALESSANDRA DIAS SANTOS'"
            ],
            "application/vnd.google.colaboratory.intrinsic+json": {
              "type": "string"
            }
          },
          "metadata": {},
          "execution_count": 26
        }
      ]
    },
    {
      "cell_type": "markdown",
      "source": [
        "## Coletando dados\n",
        "\n",
        "Em algumas aplicações precisamos coletar valores da pessoa usuária do nosso projeto. Em python conseguimos coletar dados de usuário através do comando [`input()`](https://docs.python.org/3/library/functions.html#input).\n",
        "\n",
        "Para fazer essa coleta podemos atribuir essa função à uma variável."
      ],
      "metadata": {
        "id": "0h9Fh5G9kHCa"
      }
    },
    {
      "cell_type": "code",
      "source": [
        "nome = input('Escreva seu nome: ')"
      ],
      "metadata": {
        "id": "Ofz0nkHZpKpL",
        "colab": {
          "base_uri": "https://localhost:8080/"
        },
        "outputId": "c321a2f1-8e46-4847-8f2d-9f7eb191dc6d"
      },
      "execution_count": 27,
      "outputs": [
        {
          "name": "stdout",
          "output_type": "stream",
          "text": [
            "Escreva seu nome: ronaldo\n"
          ]
        }
      ]
    },
    {
      "cell_type": "code",
      "source": [
        "nome"
      ],
      "metadata": {
        "id": "txSw1joTpKiH",
        "colab": {
          "base_uri": "https://localhost:8080/",
          "height": 36
        },
        "outputId": "95eb3857-ac35-45cb-80c4-e46b44e0d0f0"
      },
      "execution_count": 28,
      "outputs": [
        {
          "output_type": "execute_result",
          "data": {
            "text/plain": [
              "'ronaldo'"
            ],
            "application/vnd.google.colaboratory.intrinsic+json": {
              "type": "string"
            }
          },
          "metadata": {},
          "execution_count": 28
        }
      ]
    },
    {
      "cell_type": "markdown",
      "source": [
        "O retorno desse comando sempre será uma *string*. Isso quer dizer que mesmo que façamos uma coleta de algo que deva ser numérico, ele será uma string.\n",
        "\n",
        "Então, será preciso **converter o resultado caso não seja desejável obter uma string**."
      ],
      "metadata": {
        "id": "7z7hcLCk_aCY"
      }
    },
    {
      "cell_type": "markdown",
      "source": [
        "Existem funções para conversão de valores:\n",
        "\n",
        "- Inteiros: [`int(dado_para_conversao)`](https://docs.python.org/3/library/functions.html#int)\n",
        "- Float: [`float(dado_para_conversao)`](https://docs.python.org/3/library/functions.html#float)\n",
        "- String: [`str(dado_para_conversao)`](https://docs.python.org/3/library/functions.html#func-str)\n",
        "- Booleano: [`bool(dado_para_conversao)`](https://docs.python.org/3/library/functions.html#bool)"
      ],
      "metadata": {
        "id": "TOlegATj1Jfp"
      }
    },
    {
      "cell_type": "code",
      "source": [
        "ano_entrada = input('Escreva o ano de ingresso do(a) estudante: ')"
      ],
      "metadata": {
        "id": "9nYEWZCq1F4-",
        "colab": {
          "base_uri": "https://localhost:8080/"
        },
        "outputId": "0a1282a5-490c-468d-c5ff-149183b8090e"
      },
      "execution_count": 29,
      "outputs": [
        {
          "name": "stdout",
          "output_type": "stream",
          "text": [
            "Escreva o ano de ingresso do(a) estudante: 2025\n"
          ]
        }
      ]
    },
    {
      "cell_type": "code",
      "source": [
        "type(ano_entrada)"
      ],
      "metadata": {
        "id": "KOHCyzzt1FkE",
        "colab": {
          "base_uri": "https://localhost:8080/"
        },
        "outputId": "1b737422-155f-400d-a61f-7e1f5353819b"
      },
      "execution_count": 30,
      "outputs": [
        {
          "output_type": "execute_result",
          "data": {
            "text/plain": [
              "str"
            ]
          },
          "metadata": {},
          "execution_count": 30
        }
      ]
    },
    {
      "cell_type": "code",
      "source": [
        "ano_entrada = int(input('Escreva o ano de ingresso do(a) estudante: '))"
      ],
      "metadata": {
        "id": "I-jRBY2m1FZU",
        "colab": {
          "base_uri": "https://localhost:8080/"
        },
        "outputId": "e5a9cd99-eaf9-472f-df0e-23ce77fc3571"
      },
      "execution_count": 31,
      "outputs": [
        {
          "name": "stdout",
          "output_type": "stream",
          "text": [
            "Escreva o ano de ingresso do(a) estudante: 2025\n"
          ]
        }
      ]
    },
    {
      "cell_type": "code",
      "source": [
        "type(ano_entrada)"
      ],
      "metadata": {
        "id": "kjLT81mN1FQW",
        "colab": {
          "base_uri": "https://localhost:8080/"
        },
        "outputId": "016fc790-9b39-46e2-e29c-c42c14af81fb"
      },
      "execution_count": 32,
      "outputs": [
        {
          "output_type": "execute_result",
          "data": {
            "text/plain": [
              "int"
            ]
          },
          "metadata": {},
          "execution_count": 32
        }
      ]
    },
    {
      "cell_type": "markdown",
      "source": [
        "Buscaremos apresentar melhor agora o resultado que obtivemos da transformação. Nós conseguimos formatar e apresentar o nosso resultado misturando strings com valores não textuais.\n",
        "\n",
        "Para fazer isso usamos a estrutura de formatação `f` com strings."
      ],
      "metadata": {
        "id": "yNI2-XTbB3aS"
      }
    },
    {
      "cell_type": "code",
      "source": [
        "nota_entrada = float(input('Digite a nota do teste de ingresso: '))\n",
        "print(f'Ano de entrada {ano_entrada} - nota do teste de ingresso {nota_entrada}')"
      ],
      "metadata": {
        "id": "jXOHqai9prrq",
        "colab": {
          "base_uri": "https://localhost:8080/"
        },
        "outputId": "ccecbb37-c475-4d10-d838-8fc29baf94d5"
      },
      "execution_count": 33,
      "outputs": [
        {
          "output_type": "stream",
          "name": "stdout",
          "text": [
            "Digite a nota do teste de ingresso: 2025\n",
            "Ano de entrada 2025 - nota do teste de ingresso 2025.0\n"
          ]
        }
      ]
    },
    {
      "cell_type": "markdown",
      "source": [
        "# Estruturas condicionais"
      ],
      "metadata": {
        "id": "NwRaiHHHhhyl"
      }
    },
    {
      "cell_type": "markdown",
      "source": [
        "## `IF` e `ELSE`\n",
        "\n",
        "O `if` e `else` são duas estruturas condicionais. O `if` executará o bloco de comando caso a condição colocada for **verdadeira**. O `else` é um caso em que a condicional de `if` seja **falsa**."
      ],
      "metadata": {
        "id": "qXZqg9aYEhAh"
      }
    },
    {
      "cell_type": "markdown",
      "source": [
        "O `if` é uma palavra-chave em Python que significa \"se\". Ele é usado para formar uma estrutura condicional, que permite que você verifique se uma determinada condição é verdadeira ou falsa e, em seguida, execute um bloco de código específico dependendo do resultado da verificação. A sintaxe para usar o `if` é:\n",
        "\n",
        "\n",
        "\n",
        "```\n",
        "if condição:\n",
        "    # faça algo\n",
        "```\n",
        "\n"
      ],
      "metadata": {
        "id": "EIhlqHXd2Gil"
      }
    },
    {
      "cell_type": "code",
      "source": [
        "if 2>7:\n",
        "  print('condição verdadeira')\n",
        "  print()\n",
        "print('fora do bloco')"
      ],
      "metadata": {
        "id": "VCCVHCH31rXk",
        "colab": {
          "base_uri": "https://localhost:8080/"
        },
        "outputId": "4e37c4e6-1328-4371-f07c-83c424c90706"
      },
      "execution_count": 34,
      "outputs": [
        {
          "output_type": "stream",
          "name": "stdout",
          "text": [
            "fora do bloco\n"
          ]
        }
      ]
    },
    {
      "cell_type": "markdown",
      "source": [
        "Já o `else` em Python é usada em conjunto com a palavra-chave `if` para formar uma estrutura condicional. A sintaxe para usar o `else` é:\n",
        "\n",
        "```\n",
        "if condição:\n",
        "  # código caso seja verdade\n",
        "else:\n",
        "  # código caso seja falso\n",
        "```\n",
        "\n",
        "O `else` é executado quando a condição verificada pelo `if` é avaliada como `False`."
      ],
      "metadata": {
        "id": "27RW2v_sIKct"
      }
    },
    {
      "cell_type": "markdown",
      "source": [
        "---\n",
        "**Situação:**\n",
        "\n",
        "Receberemos a média de estudantes e precisamos de um algoritmo que execute a análise e decida se esse estudante está **Aprovado** ou Reprovado, mostrando uma mensagem do resultado. Para ser aprovado, a média precisa ser igual ou superior à 6.0."
      ],
      "metadata": {
        "id": "BqORg85XX-Nl"
      }
    },
    {
      "cell_type": "code",
      "source": [
        "media = float(input('Digite a média: '))\n",
        "\n",
        "if media >= 6.0:\n",
        "  print('Aprovado(a)')\n",
        "else:\n",
        "  print('Reprovado(a)')"
      ],
      "metadata": {
        "id": "8285zB_i2g5e",
        "colab": {
          "base_uri": "https://localhost:8080/"
        },
        "outputId": "0865e70b-7f0f-4669-d5b9-263540d5bddf"
      },
      "execution_count": 35,
      "outputs": [
        {
          "output_type": "stream",
          "name": "stdout",
          "text": [
            "Digite a média: 7\n",
            "Aprovado(a)\n"
          ]
        }
      ]
    },
    {
      "cell_type": "markdown",
      "source": [
        "Agora a nossa instituição de ensino lançou uma nota oficial que pessoas que tenham média entre 4.0 e 6.0 podem fazer os cursos de **Recuperação** nas férias para poder recuperar a nota.\n",
        "\n",
        "Então podemos agora fazer um conjunto de `if`s para que possamos estruturar essa nova condição."
      ],
      "metadata": {
        "id": "bD9O17HB6LUo"
      }
    },
    {
      "cell_type": "code",
      "source": [
        "media = float(input('Digite a média: '))\n",
        "\n",
        "if media >= 6.0:\n",
        "  print('Aprovado(a)')\n",
        "if 6.0 > media >= 4.0:\n",
        "  print('Recuperação')\n",
        "if media < 4.0:\n",
        "  print('Reprovado(a)')"
      ],
      "metadata": {
        "id": "PkUwbP_c2lBP",
        "colab": {
          "base_uri": "https://localhost:8080/"
        },
        "outputId": "848a3bca-2b6b-4bb6-ecb9-13dc5320f418"
      },
      "execution_count": 36,
      "outputs": [
        {
          "output_type": "stream",
          "name": "stdout",
          "text": [
            "Digite a média: 7\n",
            "Aprovado(a)\n"
          ]
        }
      ]
    },
    {
      "cell_type": "markdown",
      "source": [
        "Notemos que em casos com 3 situações como esse precisamos definir bem nossas condições. Pois foi feita uma construção com `else` no final, ele irá considerar apenas a alguma condicional para ser o caso **falso** podendo resultar em duas (ou mais) execuções.\n",
        "\n",
        "Por exemplo:"
      ],
      "metadata": {
        "id": "D5e2mByjvycO"
      }
    },
    {
      "cell_type": "code",
      "source": [
        "media = float(input('Digite a média: '))\n",
        "\n",
        "if media >= 6.0:\n",
        "  print('Aprovado(a)')\n",
        "if 6.0 > media >= 4.0:\n",
        "  print('Recuperação')\n",
        "else:\n",
        "  print('Reprovado(a)')"
      ],
      "metadata": {
        "id": "8hb3wk-62oMg",
        "colab": {
          "base_uri": "https://localhost:8080/"
        },
        "outputId": "3187046e-8cb0-4bc5-aa92-e70e42b4eda1"
      },
      "execution_count": 37,
      "outputs": [
        {
          "output_type": "stream",
          "name": "stdout",
          "text": [
            "Digite a média: 7\n",
            "Aprovado(a)\n",
            "Reprovado(a)\n"
          ]
        }
      ]
    },
    {
      "cell_type": "markdown",
      "source": [
        "## `ELIF`\n",
        "\n",
        "O `elif` é uma palavra-chave em Python que significa \"senão, se\" e pode ser considerado uma união do `else` com um `if`. Ela é usada em conjunto com a palavra-chave `if` para formar uma estrutura condicional encadeada.\n",
        "\n"
      ],
      "metadata": {
        "id": "04T5g-7h4zWx"
      }
    },
    {
      "cell_type": "markdown",
      "source": [
        "A sintaxe para usar o `elif` é:\n",
        "\n",
        "```\n",
        "if condição1:\n",
        "    # faça algo\n",
        "elif condição2:\n",
        "    # faça outra coisa\n",
        "elif condição3:\n",
        "    # faça mais alguma coisa\n",
        "else:\n",
        "    # faça algo diferente\n",
        "```\n",
        "\n",
        "O `elif` permite que você verifique várias condições de forma encadeada, economizando espaço em seu código. Se a primeira condição for avaliada como `False`, o interpretador Python avaliará a próxima condição no `elif`. Isso continuará até que uma condição seja avaliada como `True` ou até que o `else` seja atingido. Se nenhuma das condições forem avaliadas como `True`, a execução do código do `else` será iniciada."
      ],
      "metadata": {
        "id": "rNBHr5mm1Lm6"
      }
    },
    {
      "cell_type": "markdown",
      "source": [
        "Vamos usar o mesmo caso anterior:"
      ],
      "metadata": {
        "id": "MVoykFbB4bd4"
      }
    },
    {
      "cell_type": "code",
      "source": [
        "media = float(input('Digite a média: '))\n",
        "\n",
        "if media >= 6.0:\n",
        "  print('Aprovado(a)')\n",
        "elif 6.0 > media >= 4.0:\n",
        "  print('Recuperação')\n",
        "else:\n",
        "  print('Reprovado(a)')"
      ],
      "metadata": {
        "id": "TcHMdjAw3B-_",
        "colab": {
          "base_uri": "https://localhost:8080/"
        },
        "outputId": "965ea14c-6e4b-4ac6-febc-70be02ae12c8"
      },
      "execution_count": 38,
      "outputs": [
        {
          "output_type": "stream",
          "name": "stdout",
          "text": [
            "Digite a média: 7\n",
            "Aprovado(a)\n"
          ]
        }
      ]
    },
    {
      "cell_type": "markdown",
      "source": [
        "## Operadores\n",
        "\n",
        "Durante a construção de comandos por vezes precisamos de uma elaboração maior de da expressão condicional, necessitando que alguns operadores lógicos estejam integrados."
      ],
      "metadata": {
        "id": "Tf1wSOem6iwZ"
      }
    },
    {
      "cell_type": "markdown",
      "source": [
        "### `AND`, `OR`, `NOT`\n",
        "\n",
        "Os operadores lógicos `and`, `or` e `not` são usados para combinar expressões lógicas em Python. Eles são usados frequentemente em conjunto com o `if` para criar estruturas condicionais mais complexas.\n"
      ],
      "metadata": {
        "id": "GFIZnRWXGPWO"
      }
    },
    {
      "cell_type": "markdown",
      "source": [
        "- `AND` é usado para verificar se duas condições são verdadeiras. A expressão lógica¹ `x and y` é avaliada como `True` apenas se **ambas as condições `x` e `y` forem verdadeiras**, e como `False` caso contrário.\n",
        "\n",
        "- `OR` é usado para verificar se pelo menos uma das condições é verdadeira. A expressão lógica `x or y` é avaliada como `True` **se pelo menos uma das condições `x` ou `y` for verdadeira**, e como `False` se ambas forem falsas.\n",
        "\n",
        "- `NOT` é usado para **negar uma condição**. A expressão lógica not x é avaliada como True se a condição x for falsa, e como False se a condição x for verdadeira.\n",
        "\n",
        "¹ Uma expressão lógica é uma declaração que pode ser avaliada como verdadeira ou falsa. Ela é composta por operandos lógicos² e operadores lógicos³, que são usados ​​para combinar várias expressões lógicas em uma única expressão.\n",
        "\n",
        "² Os operandos lógicos são os elementos que são comparados ou avaliados em uma expressão lógica. Eles são geralmente valores verdadeiros ou falsos, mas também podem ser expressões lógicas mais complexas. Em Python, os operandos lógicos são os valores `True` e `False`.\n",
        "\n",
        "³ Os operadores lógicos são os símbolos ou palavras-chave que são usados ​​para combinar várias expressões lógicas em uma única expressão. Em Python, os operadores lógicos são `and`, `or` e `not`, bem como as palavras-chave `if`, `elif` e `else`."
      ],
      "metadata": {
        "id": "Z_dgAoHXJbzB"
      }
    },
    {
      "cell_type": "code",
      "source": [
        "t1 = t2 = True\n",
        "f1 = f2 = False"
      ],
      "metadata": {
        "id": "Fs_qb0dLOXsj"
      },
      "execution_count": 39,
      "outputs": []
    },
    {
      "cell_type": "code",
      "source": [
        "if t1 and f2:\n",
        "  print('expressão verdadeira')\n",
        "else:\n",
        "  print('expressão falsa')"
      ],
      "metadata": {
        "id": "RUgcDDaU32W9",
        "colab": {
          "base_uri": "https://localhost:8080/"
        },
        "outputId": "cfcdd99e-3250-4744-e4a7-8123724c6222"
      },
      "execution_count": 40,
      "outputs": [
        {
          "output_type": "stream",
          "name": "stdout",
          "text": [
            "expressão falsa\n"
          ]
        }
      ]
    },
    {
      "cell_type": "code",
      "source": [
        "if t1 or f2:\n",
        "  print('expressão verdadeira')\n",
        "else:\n",
        "  print('expressão falsa')"
      ],
      "metadata": {
        "id": "AUQ0kNf132-7",
        "colab": {
          "base_uri": "https://localhost:8080/"
        },
        "outputId": "daa57ae0-1e9e-4760-bec0-9ad11f49b258"
      },
      "execution_count": 41,
      "outputs": [
        {
          "output_type": "stream",
          "name": "stdout",
          "text": [
            "expressão verdadeira\n"
          ]
        }
      ]
    },
    {
      "cell_type": "code",
      "source": [
        "if not f1:\n",
        "  print('expressão verdadeira')\n",
        "else:\n",
        "  print('expressão falsa')"
      ],
      "metadata": {
        "id": "5MmGMHzm38TX",
        "colab": {
          "base_uri": "https://localhost:8080/"
        },
        "outputId": "623ec2b9-da01-4486-c84d-427d0c56e7bf"
      },
      "execution_count": 42,
      "outputs": [
        {
          "output_type": "stream",
          "name": "stdout",
          "text": [
            "expressão verdadeira\n"
          ]
        }
      ]
    },
    {
      "cell_type": "code",
      "source": [],
      "metadata": {
        "id": "GDyRKILiOct_"
      },
      "execution_count": 42,
      "outputs": []
    },
    {
      "cell_type": "markdown",
      "source": [
        "### `IN`\n",
        "\n",
        "É usado para verificar se um elemento está presente em uma lista, tupla ou outra variável de conjunto. A expressão `x in y` é avaliada como `True` se o elemento `x` estiver presente na variável de conjunto `y`, e como `False` caso contrário."
      ],
      "metadata": {
        "id": "w7EXG1dhWtja"
      }
    },
    {
      "cell_type": "markdown",
      "source": [
        "Podemos verificar isso com variáveis de texto.\n",
        "\n",
        "---\n",
        "\n",
        "**Situação:**\n",
        "\n",
        "Na escola foi passada uma lista com nomes de estudantes que foram aprovados por média no semestre, mas é preciso verificar se alguns nomes estão nessa lista para verificar se os dados estão corretos.\n",
        "\n",
        "A lista distribuida pode ser observada abaixo:\n",
        "\n",
        "```\n",
        "lista = 'José da Silva, Maria Oliveira, Pedro Martins, Ana Souza, Carlos Rodrigues, Juliana Santos, Bruno Gomes, Beatriz Costa, Felipe Almeida, Mariana Fernandes, João Pinto, Luísa Nascimento, Gabriel Souza, Manuela Santos, Thiago Oliveira, Sofia Ferreira, Rafael Albuquerque, Isabella Gomes, Bruno Costa, Maria Martins, Rafaela Souza, Matheus Fernandes, Luísa Almeida, Beatriz Pinto, Mariana Rodrigues, Gabriel Nascimento, João Ferreira, Maria Albuquerque, Felipe Oliveira\n",
        "'\n",
        "```\n",
        "\n",
        "Os nomes que precisam ser verificados são os seguintes:\n",
        "\n",
        "```\n",
        "nome_1 = 'Mariana Rodrigues'\n",
        "nome_2 = 'Marcelo Nogueira'\n",
        "```"
      ],
      "metadata": {
        "id": "enJNp6JenQbq"
      }
    },
    {
      "cell_type": "code",
      "source": [
        "lista = 'José da Silva, Maria Oliveira, Pedro Martins, Ana Souza, Carlos Rodrigues, Juliana Santos, Bruno Gomes, Beatriz Costa, Felipe Almeida, Mariana Fernandes, João Pinto, Luísa Nascimento, Gabriel Souza, Manuela Santos, Thiago Oliveira, Sofia Ferreira, Rafael Albuquerque, Isabella Gomes, Bruno Costa, Maria Martins, Rafaela Souza, Matheus Fernandes, Luísa Almeida, Beatriz Pinto, Mariana Rodrigues, Gabriel Nascimento, João Ferreira, Maria Albuquerque, Felipe Oliveira'\n",
        "lista"
      ],
      "metadata": {
        "id": "kU25ABUQ5NBe",
        "colab": {
          "base_uri": "https://localhost:8080/",
          "height": 53
        },
        "outputId": "ce5fd518-01ca-4fd8-a973-2befdc314d74"
      },
      "execution_count": 43,
      "outputs": [
        {
          "output_type": "execute_result",
          "data": {
            "text/plain": [
              "'José da Silva, Maria Oliveira, Pedro Martins, Ana Souza, Carlos Rodrigues, Juliana Santos, Bruno Gomes, Beatriz Costa, Felipe Almeida, Mariana Fernandes, João Pinto, Luísa Nascimento, Gabriel Souza, Manuela Santos, Thiago Oliveira, Sofia Ferreira, Rafael Albuquerque, Isabella Gomes, Bruno Costa, Maria Martins, Rafaela Souza, Matheus Fernandes, Luísa Almeida, Beatriz Pinto, Mariana Rodrigues, Gabriel Nascimento, João Ferreira, Maria Albuquerque, Felipe Oliveira'"
            ],
            "application/vnd.google.colaboratory.intrinsic+json": {
              "type": "string"
            }
          },
          "metadata": {},
          "execution_count": 43
        }
      ]
    },
    {
      "cell_type": "code",
      "source": [
        "nome_1 = 'Mariana Rodrigues'\n",
        "nome_2 = 'Marcelo Nogueira'"
      ],
      "metadata": {
        "id": "GY82qLpivC6Y"
      },
      "execution_count": 44,
      "outputs": []
    },
    {
      "cell_type": "code",
      "source": [
        "if nome_1 in lista:\n",
        "  print(f'{nome_1} está na lista')\n",
        "else:\n",
        "  print(f'{nome_1} não está na lista')"
      ],
      "metadata": {
        "id": "SHhVdvEX5Ry-",
        "colab": {
          "base_uri": "https://localhost:8080/"
        },
        "outputId": "aec778c1-000d-408e-c742-c655f944e0f2"
      },
      "execution_count": 45,
      "outputs": [
        {
          "output_type": "stream",
          "name": "stdout",
          "text": [
            "Mariana Rodrigues está na lista\n"
          ]
        }
      ]
    },
    {
      "cell_type": "code",
      "source": [
        "if nome_2 in lista:\n",
        "  print(f'{nome_2} está na lista')\n",
        "else:\n",
        "  print(f'{nome_2} não está na lista')"
      ],
      "metadata": {
        "id": "QsUQ8fnF5RqZ",
        "colab": {
          "base_uri": "https://localhost:8080/"
        },
        "outputId": "83bfcea0-6295-427b-b7bd-0ba4db225a49"
      },
      "execution_count": 46,
      "outputs": [
        {
          "output_type": "stream",
          "name": "stdout",
          "text": [
            "Marcelo Nogueira não está na lista\n"
          ]
        }
      ]
    },
    {
      "cell_type": "markdown",
      "source": [
        "# Estruturas de repetição"
      ],
      "metadata": {
        "id": "aL1vJPewvwvz"
      }
    },
    {
      "cell_type": "markdown",
      "source": [
        "Quando temos que executar um mesmo bloco de comandos por várias vezes não é muito interessante fazer isso à mão.\n",
        "\n",
        "Imaginemos a situação de termos que coletar e imprimir a média de duas notas de **3 estudantes**:"
      ],
      "metadata": {
        "id": "VcPfCa8d-84t"
      }
    },
    {
      "cell_type": "code",
      "source": [
        "nota_1 = float(input('Digite a 1° nota: '))\n",
        "nota_2 = float(input('Digite a 2° nota: '))\n",
        "\n",
        "print(f'Média: {(nota_1+nota_2)/2}')\n",
        "nota_1 = float(input('Digite a 1° nota: '))\n",
        "nota_2 = float(input('Digite a 2° nota: '))\n",
        "\n",
        "print(f'Média: {(nota_1+nota_2)/2}')\n",
        "nota_1 = float(input('Digite a 1° nota: '))\n",
        "nota_2 = float(input('Digite a 2° nota: '))\n",
        "\n",
        "print(f'Média: {(nota_1+nota_2)/2}')"
      ],
      "metadata": {
        "id": "pPQVHD3-5YSf",
        "colab": {
          "base_uri": "https://localhost:8080/"
        },
        "outputId": "0ae78cfd-0ce0-4944-9bba-4a9685630c97"
      },
      "execution_count": 47,
      "outputs": [
        {
          "output_type": "stream",
          "name": "stdout",
          "text": [
            "Digite a 1° nota: 7\n",
            "Digite a 2° nota: 7\n",
            "Média: 7.0\n",
            "Digite a 1° nota: 7\n",
            "Digite a 2° nota: 7\n",
            "Média: 7.0\n",
            "Digite a 1° nota: 7\n",
            "Digite a 2° nota: 7\n",
            "Média: 7.0\n"
          ]
        }
      ]
    },
    {
      "cell_type": "markdown",
      "source": [
        "Agora imaginemos uma situação em que não são apenas 3 estudantes, mas sim 100 estudantes. Não seria interessante repetir o mesmo código por 100 vezes, mas sim **executar o mesmo código 100 vezes**.\n",
        "\n",
        "Essa repetição conseguimos construir com laços de repetição!"
      ],
      "metadata": {
        "id": "9puIuvUbFSFX"
      }
    },
    {
      "cell_type": "markdown",
      "source": [
        "## `WHILE`"
      ],
      "metadata": {
        "id": "uLO9-aE4-wx8"
      }
    },
    {
      "cell_type": "markdown",
      "source": [
        "O laço `while` é uma estrutura de controle de repetição em Python que permite executar um bloco de código repetidamente enquanto uma determinada condição é verdadeira. Sua estrutura é:\n",
        "\n",
        "\n",
        "\n",
        "```\n",
        "while condição:\n",
        "    # bloco de código\n",
        "```\n",
        "\n",
        "Vamos construir um exemplo com um contador de 1 até 10.\n"
      ],
      "metadata": {
        "id": "rXZxDMiqHxm9"
      }
    },
    {
      "cell_type": "code",
      "source": [
        "contador = 1\n",
        "while contador <= 10:\n",
        "  print(contador)\n",
        "  contador += 1"
      ],
      "metadata": {
        "colab": {
          "base_uri": "https://localhost:8080/"
        },
        "id": "sRWtjpqs0hyk",
        "outputId": "b21be770-44e1-4305-af43-0d9b37138d4d"
      },
      "execution_count": 48,
      "outputs": [
        {
          "output_type": "stream",
          "name": "stdout",
          "text": [
            "1\n",
            "2\n",
            "3\n",
            "4\n",
            "5\n",
            "6\n",
            "7\n",
            "8\n",
            "9\n",
            "10\n"
          ]
        }
      ]
    },
    {
      "cell_type": "markdown",
      "source": [
        "Agora vamos coletar as notas e médias de cada aluno dentro do while. Faremos um exemplo com 3 médias."
      ],
      "metadata": {
        "id": "W4KZPBJuIrut"
      }
    },
    {
      "cell_type": "code",
      "source": [
        "contador = 1\n",
        "while contador <= 3:\n",
        "  nota_1 = float(input('Digite a 1° nota: '))\n",
        "  nota_2 = float(input('Digite a 2° nota: '))\n",
        "\n",
        "  print(f'Média: {(nota_1+nota_2)/2}')\n",
        "  contador += 1"
      ],
      "metadata": {
        "id": "jUZ5_55S7y19",
        "colab": {
          "base_uri": "https://localhost:8080/"
        },
        "outputId": "5b991b26-0365-4e7d-a904-fc1967aca3a5"
      },
      "execution_count": 49,
      "outputs": [
        {
          "output_type": "stream",
          "name": "stdout",
          "text": [
            "Digite a 1° nota: 7\n",
            "Digite a 2° nota: 7\n",
            "Média: 7.0\n",
            "Digite a 1° nota: 7\n",
            "Digite a 2° nota: 7\n",
            "Média: 7.0\n",
            "Digite a 1° nota: 7\n",
            "Digite a 2° nota: 7\n",
            "Média: 7.0\n"
          ]
        }
      ]
    },
    {
      "cell_type": "markdown",
      "source": [
        "## `FOR`"
      ],
      "metadata": {
        "id": "WgAIaENMMfCP"
      }
    },
    {
      "cell_type": "markdown",
      "source": [
        "O laço `for` é um tipo de estrutura de controle de fluxo em Python que permite iterar sobre um conjunto de elementos. A sua estrutura é:\n",
        "\n",
        "\n",
        "\n",
        "```\n",
        "for elemento in conjunto:\n",
        "    # código a ser executado para cada elemento\n",
        "```\n",
        "\n",
        "O laço for itera sobre cada elemento do conjunto especificado e executa o bloco de código dentro do laço para cada elemento. Quando o laço chega ao final do conjunto, ele é interrompido e o programa continua a execução após o laço.\n",
        "\n"
      ],
      "metadata": {
        "id": "HxrSZoRAMh-x"
      }
    },
    {
      "cell_type": "markdown",
      "source": [
        "O conjunto pode ser gerado com a função [`range()`](https://docs.python.org/3/library/functions.html#func-range). Que é uma função capaz de gerar uma sequência de números inteiros. A estrutura dessa função é:\n",
        "\n",
        "```\n",
        "range(inicio, fim, passo)\n",
        "```\n",
        "\n",
        "Segundo a documentação, o `range()` gera uma sequência de números inteiros a partir do valor do parâmetro `inicio` até o valor do parâmetro `fim`, de acordo com o valor do parâmetro `passo`. Se `inicio` não for especificado, o valor padrão é 0. Se `passo` não for especificado, o valor padrão é 1.\n",
        "\n",
        "\n"
      ],
      "metadata": {
        "id": "6VgjyoQtPHBM"
      }
    },
    {
      "cell_type": "markdown",
      "source": [
        "Vamos fazer o mesmo contador `while` agora com `for`."
      ],
      "metadata": {
        "id": "ryn0hfdlUwC8"
      }
    },
    {
      "cell_type": "code",
      "source": [
        "for contador in range(1,11):\n",
        "  print(contador)"
      ],
      "metadata": {
        "id": "jeQB_pYL71tc",
        "colab": {
          "base_uri": "https://localhost:8080/"
        },
        "outputId": "e13be1af-8509-486e-bff0-c6cb4fa34d55"
      },
      "execution_count": 50,
      "outputs": [
        {
          "output_type": "stream",
          "name": "stdout",
          "text": [
            "1\n",
            "2\n",
            "3\n",
            "4\n",
            "5\n",
            "6\n",
            "7\n",
            "8\n",
            "9\n",
            "10\n"
          ]
        }
      ]
    },
    {
      "cell_type": "code",
      "source": [
        "for contador in range(1,4):\n",
        "  nota_1 = float(input('Digite a 1° nota: '))\n",
        "  nota_2 = float(input('Digite a 2° nota: '))\n",
        "\n",
        "  print(f'Média: {(nota_1+nota_2)/2}')"
      ],
      "metadata": {
        "id": "1lRU-1xH73JR",
        "colab": {
          "base_uri": "https://localhost:8080/"
        },
        "outputId": "5233debf-4b50-4c66-b36c-7b7bf0017bcb"
      },
      "execution_count": 51,
      "outputs": [
        {
          "output_type": "stream",
          "name": "stdout",
          "text": [
            "Digite a 1° nota: 7\n",
            "Digite a 2° nota: 7\n",
            "Média: 7.0\n",
            "Digite a 1° nota: 7\n",
            "Digite a 2° nota: 7\n",
            "Média: 7.0\n",
            "Digite a 1° nota: 7\n",
            "Digite a 2° nota: 7\n",
            "Média: 7.0\n"
          ]
        }
      ]
    },
    {
      "cell_type": "markdown",
      "source": [
        "# Estruturas de dados"
      ],
      "metadata": {
        "id": "8noP8OJ0Vhux"
      }
    },
    {
      "cell_type": "markdown",
      "source": [
        "Um conjunto de elementos é uma coleção de itens, que são armazenados juntos de maneira organizada. Alguns exemplos de conjuntos de elementos em Python são listas, strings e dicionários."
      ],
      "metadata": {
        "id": "xpEUkefTu8fY"
      }
    },
    {
      "cell_type": "markdown",
      "source": [
        "## Listas"
      ],
      "metadata": {
        "id": "THSg4KYLwxIb"
      }
    },
    {
      "cell_type": "markdown",
      "source": [
        "As listas podem armazenar uma coleção de itens em ordem. Eles são delimitados por colchetes `[]` e os itens são separados por vírgulas.\n",
        "\n",
        "Elas também podem armazenar qualquer tipo de item, incluindo números, strings, objetos e outras listas. Elas também podem armazenar itens de tipos de dados diferentes juntos em uma única lista."
      ],
      "metadata": {
        "id": "dzpsiqrOyJcK"
      }
    },
    {
      "cell_type": "code",
      "source": [
        "lista = ['Fabricio Daniel',9.5,9.0,8.0,True]\n",
        "lista"
      ],
      "metadata": {
        "id": "DO3TBj7nAYeG",
        "colab": {
          "base_uri": "https://localhost:8080/"
        },
        "outputId": "be663669-5e48-4241-cec5-d8538bb4d572"
      },
      "execution_count": 52,
      "outputs": [
        {
          "output_type": "execute_result",
          "data": {
            "text/plain": [
              "['Fabricio Daniel', 9.5, 9.0, 8.0, True]"
            ]
          },
          "metadata": {},
          "execution_count": 52
        }
      ]
    },
    {
      "cell_type": "markdown",
      "source": [
        "As listas são organizadas em Python porque **cada elemento da lista tem um índice que indica sua posição na lista**. Os índices começam em 0 e vão até o tamanho da lista menos 1."
      ],
      "metadata": {
        "id": "qUz3sJNl6LgK"
      }
    },
    {
      "cell_type": "markdown",
      "source": [
        "Temos então 5 elementos com índices variando de 0 a 4, ordenadamente:\n",
        "\n",
        "```\n",
        "#             [0]           [1]   [2]   [3]    [4]\n",
        "lista = ['Fabricio Daniel', 9.5 , 9.0 , 8.0 , True]\n",
        "```\n",
        "\n",
        "Em Python temos também os índices **negativos** que se iniciam no último elemento com o valor de `-1` e depois avancam no universo dos negativos até chegar no 1° elemeno:\n",
        "\n",
        "```\n",
        "#             [-5]         [-4]  [-3]  [-2]   [-1]\n",
        "lista = ['Fabricio Daniel', 9.5 , 9.0 , 8.0 , True]\n",
        "```\n",
        "\n",
        "Conseguimos selecionar separadamente cada elemento através de seus respectivos índices. Colocando o nome da lista e em seguida o índice a ser selecionado."
      ],
      "metadata": {
        "id": "rLf-Qg526hFD"
      }
    },
    {
      "cell_type": "code",
      "source": [
        "lista[0]"
      ],
      "metadata": {
        "id": "1IVlFngEA7Dd",
        "colab": {
          "base_uri": "https://localhost:8080/",
          "height": 36
        },
        "outputId": "524e11d3-329f-4d63-a495-b469786d5721"
      },
      "execution_count": 53,
      "outputs": [
        {
          "output_type": "execute_result",
          "data": {
            "text/plain": [
              "'Fabricio Daniel'"
            ],
            "application/vnd.google.colaboratory.intrinsic+json": {
              "type": "string"
            }
          },
          "metadata": {},
          "execution_count": 53
        }
      ]
    },
    {
      "cell_type": "code",
      "source": [
        "lista[1]"
      ],
      "metadata": {
        "id": "W0Od6JGyA64R",
        "colab": {
          "base_uri": "https://localhost:8080/"
        },
        "outputId": "2e72af78-1b21-40ae-ddf4-9ca9b9cf916a"
      },
      "execution_count": 54,
      "outputs": [
        {
          "output_type": "execute_result",
          "data": {
            "text/plain": [
              "9.5"
            ]
          },
          "metadata": {},
          "execution_count": 54
        }
      ]
    },
    {
      "cell_type": "code",
      "source": [
        "lista[-1]"
      ],
      "metadata": {
        "id": "m9pA1u7JA6sz",
        "colab": {
          "base_uri": "https://localhost:8080/"
        },
        "outputId": "d9cdd4df-60ed-43ca-b4cf-6db3588b6284"
      },
      "execution_count": 55,
      "outputs": [
        {
          "output_type": "execute_result",
          "data": {
            "text/plain": [
              "True"
            ]
          },
          "metadata": {},
          "execution_count": 55
        }
      ]
    },
    {
      "cell_type": "markdown",
      "source": [
        "Uma forma mais dinâmica de trabalhar item por item de uma lista é utilizando um laço for para leitura elemento a elemento."
      ],
      "metadata": {
        "id": "6TaE1ijmBTCd"
      }
    },
    {
      "cell_type": "code",
      "source": [
        "for elemento in lista:\n",
        "  print(elemento)"
      ],
      "metadata": {
        "id": "3oG8mflrA--y",
        "colab": {
          "base_uri": "https://localhost:8080/"
        },
        "outputId": "fe9e8456-75fa-4015-c349-1a669bf039bf"
      },
      "execution_count": 56,
      "outputs": [
        {
          "output_type": "stream",
          "name": "stdout",
          "text": [
            "Fabricio Daniel\n",
            "9.5\n",
            "9.0\n",
            "8.0\n",
            "True\n"
          ]
        }
      ]
    },
    {
      "cell_type": "markdown",
      "source": [
        "A nota `8.0` de Fabricio Daniel precisa ser ajustada pois ganhou 2 pontos em sua ultima nota por fazer um trabalho de turma. Então é necessária fazer uma troca no valor do índice `3` de `8.0` para `10.0`."
      ],
      "metadata": {
        "id": "Dh1_HnIVvucY"
      }
    },
    {
      "cell_type": "code",
      "source": [
        "lista[3] = 10.0\n",
        "lista"
      ],
      "metadata": {
        "id": "Grd0wTBtBA6j",
        "colab": {
          "base_uri": "https://localhost:8080/"
        },
        "outputId": "9695cff6-a746-4fcf-c559-274c140b280c"
      },
      "execution_count": 57,
      "outputs": [
        {
          "output_type": "execute_result",
          "data": {
            "text/plain": [
              "['Fabricio Daniel', 9.5, 9.0, 10.0, True]"
            ]
          },
          "metadata": {},
          "execution_count": 57
        }
      ]
    },
    {
      "cell_type": "markdown",
      "source": [
        "conseguimos calcular a média do aluno a partir dos dados que temos"
      ],
      "metadata": {
        "id": "53XduzXkycAf"
      }
    },
    {
      "cell_type": "code",
      "source": [
        "media = (lista[1] + lista[2] + lista[3])/3\n",
        "media"
      ],
      "metadata": {
        "id": "OfyKoqS3BDWR",
        "colab": {
          "base_uri": "https://localhost:8080/"
        },
        "outputId": "c3824be5-beb8-46ef-aab2-94168415c1ac"
      },
      "execution_count": 58,
      "outputs": [
        {
          "output_type": "execute_result",
          "data": {
            "text/plain": [
              "9.5"
            ]
          },
          "metadata": {},
          "execution_count": 58
        }
      ]
    },
    {
      "cell_type": "markdown",
      "source": [
        "## Manipulação de listas\n",
        "\n",
        "As listas são muito úteis em Python porque permitem armazenar e acessar uma coleção de itens de maneira organizada e rápida. Elas também oferecem muitos métodos úteis para manipular os itens armazenados, como adicionar, remover, classificar e pesquisar elementos."
      ],
      "metadata": {
        "id": "d-iYr10-y4qw"
      }
    },
    {
      "cell_type": "markdown",
      "source": [
        "#### Quantidade de elementos\n",
        "\n",
        "Usamos a função [`len()`](https://docs.python.org/3/library/functions.html#len) para descobrimos a quantidade de elementos de um conjunto."
      ],
      "metadata": {
        "id": "ZLqx9A97XVB_"
      }
    },
    {
      "cell_type": "code",
      "source": [
        "len(lista)"
      ],
      "metadata": {
        "id": "bfwZdet8BtfO",
        "colab": {
          "base_uri": "https://localhost:8080/"
        },
        "outputId": "6a159e91-daa2-4d64-d7d4-d82b48dfeb09"
      },
      "execution_count": 59,
      "outputs": [
        {
          "output_type": "execute_result",
          "data": {
            "text/plain": [
              "5"
            ]
          },
          "metadata": {},
          "execution_count": 59
        }
      ]
    },
    {
      "cell_type": "markdown",
      "source": [
        "#### Partição\n",
        "\n",
        "A partição de listas por indexação em Python é uma técnica muito útil para selecionar um subconjunto de elementos de uma lista. Ela é feita usando a sintaxe `lista[inicio:fim]`, onde `inicio` é o índice do primeiro elemento a ser incluído na partição e `fim` é o índice do primeiro elemento a ser excluído da partição."
      ],
      "metadata": {
        "id": "Z5tpstlHJss3"
      }
    },
    {
      "cell_type": "code",
      "source": [
        "lista[1:4]"
      ],
      "metadata": {
        "id": "zeyUXL4qBwRV",
        "colab": {
          "base_uri": "https://localhost:8080/"
        },
        "outputId": "a79e7e12-3ed3-4a0f-a809-d0b94eddc6c0"
      },
      "execution_count": 60,
      "outputs": [
        {
          "output_type": "execute_result",
          "data": {
            "text/plain": [
              "[9.5, 9.0, 10.0]"
            ]
          },
          "metadata": {},
          "execution_count": 60
        }
      ]
    },
    {
      "cell_type": "code",
      "source": [
        "lista[1:3]"
      ],
      "metadata": {
        "id": "PRtYur9uBwGF",
        "colab": {
          "base_uri": "https://localhost:8080/"
        },
        "outputId": "dd8831da-f2ac-4812-c17e-0128050a6d0c"
      },
      "execution_count": 61,
      "outputs": [
        {
          "output_type": "execute_result",
          "data": {
            "text/plain": [
              "[9.5, 9.0]"
            ]
          },
          "metadata": {},
          "execution_count": 61
        }
      ]
    },
    {
      "cell_type": "code",
      "source": [
        "lista[:3]"
      ],
      "metadata": {
        "id": "XvOx5kuMBv9U",
        "colab": {
          "base_uri": "https://localhost:8080/"
        },
        "outputId": "4acc0d83-6847-4c3a-a257-0d06a1c2c6f3"
      },
      "execution_count": 62,
      "outputs": [
        {
          "output_type": "execute_result",
          "data": {
            "text/plain": [
              "['Fabricio Daniel', 9.5, 9.0]"
            ]
          },
          "metadata": {},
          "execution_count": 62
        }
      ]
    },
    {
      "cell_type": "code",
      "source": [
        "lista[3:]"
      ],
      "metadata": {
        "id": "s-e8X-p8Bvzb",
        "colab": {
          "base_uri": "https://localhost:8080/"
        },
        "outputId": "9e75ee61-feae-417e-b934-113b9e20ea1a"
      },
      "execution_count": 63,
      "outputs": [
        {
          "output_type": "execute_result",
          "data": {
            "text/plain": [
              "[10.0, True]"
            ]
          },
          "metadata": {},
          "execution_count": 63
        }
      ]
    },
    {
      "cell_type": "code",
      "source": [
        "lista[:]"
      ],
      "metadata": {
        "id": "9CuJGncuB6RA",
        "colab": {
          "base_uri": "https://localhost:8080/"
        },
        "outputId": "5f0b8657-dbdc-436b-cf9b-bd03b7279eb9"
      },
      "execution_count": 64,
      "outputs": [
        {
          "output_type": "execute_result",
          "data": {
            "text/plain": [
              "['Fabricio Daniel', 9.5, 9.0, 10.0, True]"
            ]
          },
          "metadata": {},
          "execution_count": 64
        }
      ]
    },
    {
      "cell_type": "markdown",
      "source": [
        "#### [`append()`](https://docs.python.org/3/tutorial/datastructures.html#:~:text=of%20list%20objects%3A-,list.append(x),-Add%20an%20item)\n",
        "\n",
        "Adiciona um elemento ao final da lista."
      ],
      "metadata": {
        "id": "O0RRyabkRzZC"
      }
    },
    {
      "cell_type": "code",
      "source": [
        "lista.append(media)\n",
        "lista"
      ],
      "metadata": {
        "id": "mNXTjF4SCnwY",
        "colab": {
          "base_uri": "https://localhost:8080/"
        },
        "outputId": "6f206f82-a399-4922-ac4e-1476da2fbab8"
      },
      "execution_count": 65,
      "outputs": [
        {
          "output_type": "execute_result",
          "data": {
            "text/plain": [
              "['Fabricio Daniel', 9.5, 9.0, 10.0, True, 9.5]"
            ]
          },
          "metadata": {},
          "execution_count": 65
        }
      ]
    },
    {
      "cell_type": "markdown",
      "source": [
        "#### [`extend()`](https://docs.python.org/3/tutorial/datastructures.html#:~:text=list.extend(iterable))\n",
        "\n",
        "Adiciona vários elementos ao final da lista.\n",
        "\n",
        "Adicionaremos as notas `[10.0,8.0,9.0]` na lista do Fabricio Daniel"
      ],
      "metadata": {
        "id": "uQV91XMsUOJD"
      }
    },
    {
      "cell_type": "code",
      "source": [
        "lista.extend([10.0,8.0,9.0])\n",
        "lista"
      ],
      "metadata": {
        "id": "uAZsOk5JCo9J",
        "colab": {
          "base_uri": "https://localhost:8080/"
        },
        "outputId": "2097ab82-49e7-496d-9023-efb27513b2cc"
      },
      "execution_count": 66,
      "outputs": [
        {
          "output_type": "execute_result",
          "data": {
            "text/plain": [
              "['Fabricio Daniel', 9.5, 9.0, 10.0, True, 9.5, 10.0, 8.0, 9.0]"
            ]
          },
          "metadata": {},
          "execution_count": 66
        }
      ]
    },
    {
      "cell_type": "markdown",
      "source": [
        "*Isso não é possivel ser feito com o* `append`."
      ],
      "metadata": {
        "id": "IVJvkTwNUk6M"
      }
    },
    {
      "cell_type": "code",
      "source": [
        "lista.append([10.0,8.0,9.0])\n",
        "lista"
      ],
      "metadata": {
        "id": "Lu5Uxhn6C3QT",
        "colab": {
          "base_uri": "https://localhost:8080/"
        },
        "outputId": "a79b3250-bac4-4c71-8fae-847a2983c2a1"
      },
      "execution_count": 67,
      "outputs": [
        {
          "output_type": "execute_result",
          "data": {
            "text/plain": [
              "['Fabricio Daniel',\n",
              " 9.5,\n",
              " 9.0,\n",
              " 10.0,\n",
              " True,\n",
              " 9.5,\n",
              " 10.0,\n",
              " 8.0,\n",
              " 9.0,\n",
              " [10.0, 8.0, 9.0]]"
            ]
          },
          "metadata": {},
          "execution_count": 67
        }
      ]
    },
    {
      "cell_type": "markdown",
      "source": [
        "#### [`remove()`](https://docs.python.org/3/tutorial/datastructures.html#:~:text=append(x).-,list.remove(x),-Remove%20the%20first)\n",
        "\n",
        "Remove um elemento específico da lista."
      ],
      "metadata": {
        "id": "dPGM5gpyUX1z"
      }
    },
    {
      "cell_type": "code",
      "source": [
        "lista.remove([10.0,8.0,9.0])\n",
        "lista"
      ],
      "metadata": {
        "id": "AqXhhh4_DJBO",
        "colab": {
          "base_uri": "https://localhost:8080/"
        },
        "outputId": "aade2105-b59e-453d-815a-239ef1570282"
      },
      "execution_count": 68,
      "outputs": [
        {
          "output_type": "execute_result",
          "data": {
            "text/plain": [
              "['Fabricio Daniel', 9.5, 9.0, 10.0, True, 9.5, 10.0, 8.0, 9.0]"
            ]
          },
          "metadata": {},
          "execution_count": 68
        }
      ]
    },
    {
      "cell_type": "markdown",
      "source": [
        "## Dicionário"
      ],
      "metadata": {
        "id": "Rc22Vc08YDZ2"
      }
    },
    {
      "cell_type": "markdown",
      "source": [
        "Os dicionários são um tipo de estrutura de dados que armazenam pares de *chave-valor*. Eles são delimitados por chaves `{}` e os pares *chave-valor* são separados por vírgulas.\n",
        "\n",
        "```\n",
        "dicionário = {chave: valor}\n",
        "```\n",
        "\n",
        "A **chave** é um elemento único que identifica um valor no dicionário, enquanto o **valor** é o item que é armazenado para a chave. As chaves e os valores podem ser de **qualquer tipo de dado**.\n",
        "\n",
        "Os dicionários são úteis para armazenar e acessar dados de maneira organizada e rápida. Eles são um tipo de conjunto de elementos em Python, pois armazenam uma coleção de itens."
      ],
      "metadata": {
        "id": "PJ-cCKPjeWxL"
      }
    },
    {
      "cell_type": "code",
      "source": [
        "dicionario = {'chave_1':1,\n",
        "              'chave_2':2}\n",
        "dicionario"
      ],
      "metadata": {
        "colab": {
          "base_uri": "https://localhost:8080/"
        },
        "id": "6NssDIU-I7yd",
        "outputId": "ea9c9e8d-fb32-4613-edf6-931100c22397"
      },
      "execution_count": 69,
      "outputs": [
        {
          "output_type": "execute_result",
          "data": {
            "text/plain": [
              "{'chave_1': 1, 'chave_2': 2}"
            ]
          },
          "metadata": {},
          "execution_count": 69
        }
      ]
    },
    {
      "cell_type": "markdown",
      "source": [
        "---\n",
        "**Situação:**\n",
        "\n",
        "Vamos criar um conjunto de dados com informações de matricula de um estudante. Os dados são os seguintes:\n",
        "\n",
        "- matricula: 2000168933\n",
        "- dia de cadastro: 25\n",
        "- mês de cadastro: 10\n",
        "- turma: 2E"
      ],
      "metadata": {
        "id": "_JbQ3KMKfkXU"
      }
    },
    {
      "cell_type": "code",
      "source": [
        "cadastro = {'matricula': 2000168933,\n",
        "            'dia_cadastro': 25,\n",
        "            'mes_cadastro': 10,\n",
        "            'turma': '2E'}\n",
        "cadastro"
      ],
      "metadata": {
        "colab": {
          "base_uri": "https://localhost:8080/"
        },
        "id": "tLPrLFX0JAY3",
        "outputId": "70de72bb-c6b5-444a-aa23-b41b7636b257"
      },
      "execution_count": 70,
      "outputs": [
        {
          "output_type": "execute_result",
          "data": {
            "text/plain": [
              "{'matricula': 2000168933,\n",
              " 'dia_cadastro': 25,\n",
              " 'mes_cadastro': 10,\n",
              " 'turma': '2E'}"
            ]
          },
          "metadata": {},
          "execution_count": 70
        }
      ]
    },
    {
      "cell_type": "code",
      "source": [
        "cadastro['matricula']"
      ],
      "metadata": {
        "colab": {
          "base_uri": "https://localhost:8080/"
        },
        "id": "gMCMTjohJBuT",
        "outputId": "3a8529dc-9d08-4c11-9d35-8a0420b47e8e"
      },
      "execution_count": 71,
      "outputs": [
        {
          "output_type": "execute_result",
          "data": {
            "text/plain": [
              "2000168933"
            ]
          },
          "metadata": {},
          "execution_count": 71
        }
      ]
    },
    {
      "cell_type": "code",
      "source": [
        "cadastro['turma']"
      ],
      "metadata": {
        "colab": {
          "base_uri": "https://localhost:8080/",
          "height": 36
        },
        "id": "kRncI_tiJBoU",
        "outputId": "61745896-f909-41db-c691-093871929936"
      },
      "execution_count": 72,
      "outputs": [
        {
          "output_type": "execute_result",
          "data": {
            "text/plain": [
              "'2E'"
            ],
            "application/vnd.google.colaboratory.intrinsic+json": {
              "type": "string"
            }
          },
          "metadata": {},
          "execution_count": 72
        }
      ]
    },
    {
      "cell_type": "markdown",
      "source": [
        "É possível substituir os valores dentro de uma chave. Por exemplo, recebemos a informação que a turma do estudante que cadastramos foi trocada para `'2G'` e agora precisamos trocar o valor da chave `'turma'`."
      ],
      "metadata": {
        "id": "8ex5pt2ykDd2"
      }
    },
    {
      "cell_type": "code",
      "source": [
        "cadastro['turma'] = '2G'\n",
        "cadastro"
      ],
      "metadata": {
        "colab": {
          "base_uri": "https://localhost:8080/"
        },
        "id": "L5A3TmB7JEkW",
        "outputId": "3fca6326-c71f-4182-eeeb-add8abd36a30"
      },
      "execution_count": 73,
      "outputs": [
        {
          "output_type": "execute_result",
          "data": {
            "text/plain": [
              "{'matricula': 2000168933,\n",
              " 'dia_cadastro': 25,\n",
              " 'mes_cadastro': 10,\n",
              " 'turma': '2G'}"
            ]
          },
          "metadata": {},
          "execution_count": 73
        }
      ]
    },
    {
      "cell_type": "markdown",
      "source": [
        "Podemos também adicionar outros dados ao dicionário. Vamos adicionar a informação de modalidade de ensino, nosso estudante atuará inicialmente em modalidade EAD.\n",
        "\n",
        "Então iremos definir uma chave chamada `'modalidade'` e o valor `'EAD'`."
      ],
      "metadata": {
        "id": "wB0qRb56mQvv"
      }
    },
    {
      "cell_type": "code",
      "source": [
        "cadastro['modalidade'] = 'EAD'\n",
        "cadastro"
      ],
      "metadata": {
        "colab": {
          "base_uri": "https://localhost:8080/"
        },
        "id": "VoiBc0sLJGl2",
        "outputId": "94cbfcd1-c82e-4796-b475-3234472a4b51"
      },
      "execution_count": 74,
      "outputs": [
        {
          "output_type": "execute_result",
          "data": {
            "text/plain": [
              "{'matricula': 2000168933,\n",
              " 'dia_cadastro': 25,\n",
              " 'mes_cadastro': 10,\n",
              " 'turma': '2G',\n",
              " 'modalidade': 'EAD'}"
            ]
          },
          "metadata": {},
          "execution_count": 74
        }
      ]
    },
    {
      "cell_type": "markdown",
      "source": [
        "## Aprofundando em dicionários"
      ],
      "metadata": {
        "id": "LJ3o_inroxg_"
      }
    },
    {
      "cell_type": "markdown",
      "source": [
        "#### [`pop()`](https://python-reference.readthedocs.io/en/latest/docs/dict/pop.html)\n",
        "Remove um item de um dicionário e o retorna."
      ],
      "metadata": {
        "id": "2N3GLlkSpBiu"
      }
    },
    {
      "cell_type": "code",
      "source": [
        "cadastro.pop('turma')"
      ],
      "metadata": {
        "colab": {
          "base_uri": "https://localhost:8080/",
          "height": 36
        },
        "id": "VRQti1orJImd",
        "outputId": "3cb53c29-49c1-4dbb-f026-09274717c87e"
      },
      "execution_count": 75,
      "outputs": [
        {
          "output_type": "execute_result",
          "data": {
            "text/plain": [
              "'2G'"
            ],
            "application/vnd.google.colaboratory.intrinsic+json": {
              "type": "string"
            }
          },
          "metadata": {},
          "execution_count": 75
        }
      ]
    },
    {
      "cell_type": "code",
      "source": [
        "cadastro"
      ],
      "metadata": {
        "colab": {
          "base_uri": "https://localhost:8080/"
        },
        "id": "mZzq2ShlJJlh",
        "outputId": "d4d83d7e-6e97-45a4-d411-34734986281e"
      },
      "execution_count": 76,
      "outputs": [
        {
          "output_type": "execute_result",
          "data": {
            "text/plain": [
              "{'matricula': 2000168933,\n",
              " 'dia_cadastro': 25,\n",
              " 'mes_cadastro': 10,\n",
              " 'modalidade': 'EAD'}"
            ]
          },
          "metadata": {},
          "execution_count": 76
        }
      ]
    },
    {
      "cell_type": "markdown",
      "source": [
        "#### [`items()`](https://python-reference.readthedocs.io/en/latest/docs/dict/items.html)\n",
        "Retorna uma lista de pares chave-valor do dicionário."
      ],
      "metadata": {
        "id": "sYZGvJJYrW_y"
      }
    },
    {
      "cell_type": "code",
      "source": [
        "cadastro.items()"
      ],
      "metadata": {
        "colab": {
          "base_uri": "https://localhost:8080/"
        },
        "id": "ux8pzb0xJLLd",
        "outputId": "df08d073-a2d7-4ceb-f065-bdc10feaeef0"
      },
      "execution_count": 77,
      "outputs": [
        {
          "output_type": "execute_result",
          "data": {
            "text/plain": [
              "dict_items([('matricula', 2000168933), ('dia_cadastro', 25), ('mes_cadastro', 10), ('modalidade', 'EAD')])"
            ]
          },
          "metadata": {},
          "execution_count": 77
        }
      ]
    },
    {
      "cell_type": "markdown",
      "source": [
        "#### [`keys()`](https://python-reference.readthedocs.io/en/latest/docs/dict/keys.html)\n",
        "Retorna uma lista das chaves do dicionário."
      ],
      "metadata": {
        "id": "Lb0utNFGrZBY"
      }
    },
    {
      "cell_type": "code",
      "source": [
        "cadastro.keys()"
      ],
      "metadata": {
        "colab": {
          "base_uri": "https://localhost:8080/"
        },
        "id": "igbXeBkEJMFA",
        "outputId": "38041604-01d1-446e-8e96-117dd836cc9f"
      },
      "execution_count": 78,
      "outputs": [
        {
          "output_type": "execute_result",
          "data": {
            "text/plain": [
              "dict_keys(['matricula', 'dia_cadastro', 'mes_cadastro', 'modalidade'])"
            ]
          },
          "metadata": {},
          "execution_count": 78
        }
      ]
    },
    {
      "cell_type": "markdown",
      "source": [
        "#### [`values()`](https://python-reference.readthedocs.io/en/latest/docs/dict/values.html)\n",
        "Retorna uma lista dos valores do dicionário."
      ],
      "metadata": {
        "id": "qKyu3bf9rbtX"
      }
    },
    {
      "cell_type": "code",
      "source": [
        "cadastro.values()"
      ],
      "metadata": {
        "colab": {
          "base_uri": "https://localhost:8080/"
        },
        "id": "9STc5ArKJNEh",
        "outputId": "f87d8548-2ef2-4d9b-93b0-4e2e6c0fc544"
      },
      "execution_count": 79,
      "outputs": [
        {
          "output_type": "execute_result",
          "data": {
            "text/plain": [
              "dict_values([2000168933, 25, 10, 'EAD'])"
            ]
          },
          "metadata": {},
          "execution_count": 79
        }
      ]
    },
    {
      "cell_type": "markdown",
      "source": [
        "### Leitura de valores com `for`"
      ],
      "metadata": {
        "id": "e3XVjR8Frp75"
      }
    },
    {
      "cell_type": "code",
      "source": [
        "for chaves in cadastro.keys():\n",
        "  print(cadastro[chaves])"
      ],
      "metadata": {
        "colab": {
          "base_uri": "https://localhost:8080/"
        },
        "id": "Wshe2p9IJR0N",
        "outputId": "58639a44-39c1-4f4f-a81f-36595fb811f1"
      },
      "execution_count": 80,
      "outputs": [
        {
          "output_type": "stream",
          "name": "stdout",
          "text": [
            "2000168933\n",
            "25\n",
            "10\n",
            "EAD\n"
          ]
        }
      ]
    },
    {
      "cell_type": "code",
      "source": [
        "for valores in cadastro.values():\n",
        "  print(valores)"
      ],
      "metadata": {
        "colab": {
          "base_uri": "https://localhost:8080/"
        },
        "id": "ljRFCGQWJRt6",
        "outputId": "5b96c675-2d56-4387-8ef4-93fdc5c197bd"
      },
      "execution_count": 81,
      "outputs": [
        {
          "output_type": "stream",
          "name": "stdout",
          "text": [
            "2000168933\n",
            "25\n",
            "10\n",
            "EAD\n"
          ]
        }
      ]
    },
    {
      "cell_type": "code",
      "source": [
        "for chaves, valores in cadastro.items():\n",
        "  print(chaves, valores)"
      ],
      "metadata": {
        "colab": {
          "base_uri": "https://localhost:8080/"
        },
        "id": "-OYRVP_sJRnw",
        "outputId": "a3e3749a-d24e-4d8a-88d0-08d0bf81919e"
      },
      "execution_count": 82,
      "outputs": [
        {
          "output_type": "stream",
          "name": "stdout",
          "text": [
            "matricula 2000168933\n",
            "dia_cadastro 25\n",
            "mes_cadastro 10\n",
            "modalidade EAD\n"
          ]
        }
      ]
    }
  ]
}